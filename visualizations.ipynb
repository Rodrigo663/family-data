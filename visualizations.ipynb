{
 "cells": [
  {
   "cell_type": "code",
   "execution_count": null,
   "id": "42b45ba9",
   "metadata": {},
   "outputs": [],
   "source": [
    "import pandas as pd\n",
    "import numpy as np\n",
    "import matplotlib.pyplot as plt\n",
    "import seaborn as sns\n",
    "plt.style.use('default')"
   ]
  },
  {
   "cell_type": "markdown",
   "id": "3077ed52",
   "metadata": {},
   "source": [
    "# Adding the decade column"
   ]
  },
  {
   "cell_type": "code",
   "execution_count": null,
   "id": "1315ebb9",
   "metadata": {},
   "outputs": [],
   "source": [
    "df= pd.read_excel('people.xlsx', parse_dates=[0])\n",
    "def convert(year):\n",
    "    if year[0:2] == '20':\n",
    "     \treturn '00s'\n",
    "    elif year[0:3] == '199':\n",
    "        return '90s'\n",
    "    elif year[0:3] == '198':\n",
    "        return '80s'\n",
    "    else:\n",
    "        return '70s'\n",
    "\n",
    "df['decade'] = df['birthdate'].apply(lambda d: convert(str(d.year)))\n",
    "\n",
    "\n",
    "df.to_excel('decade.xlsx', index=False)\n",
    "\n"
   ]
  },
  {
   "cell_type": "markdown",
   "id": "b14c6991",
   "metadata": {},
   "source": [
    "# Count of cousins birth dates by decade"
   ]
  },
  {
   "cell_type": "code",
   "execution_count": null,
   "id": "e0e0780c",
   "metadata": {
    "scrolled": false
   },
   "outputs": [],
   "source": [
    "d = plt.figure(figsize=(6,4), dpi=150)\n",
    "s = sns.countplot(data=df, x='decade',  palette='inferno',dodge=False,)\n",
    "\n",
    "\n",
    "d.savefig(\"figures/countplot.png\") "
   ]
  },
  {
   "cell_type": "markdown",
   "id": "59ddae35",
   "metadata": {},
   "source": [
    "# How old the uncles and aunts were when they had each cousin"
   ]
  },
  {
   "cell_type": "code",
   "execution_count": null,
   "id": "2ac894d6",
   "metadata": {},
   "outputs": [],
   "source": [
    "figure = plt.figure(figsize=(8,2), dpi=200)\n",
    "\n",
    "sns.boxplot(x='parent_age',data=df, palette='inferno')\n",
    "\n",
    "figure.savefig(\"figures/boxplot.png\") \n"
   ]
  },
  {
   "cell_type": "code",
   "execution_count": null,
   "id": "acd0da56",
   "metadata": {},
   "outputs": [],
   "source": [
    "figure = plt.figure(figsize=(8,2), dpi=200)\n",
    "\n",
    "sns.violinplot(x='parent_age',data=df,palette='inferno',    inner=None,)\n",
    "plt.xlim(15, 44)\n",
    "\n",
    "\n",
    "figure.savefig(\"figures/violinplot.png\") "
   ]
  },
  {
   "cell_type": "code",
   "execution_count": null,
   "id": "2a77d1d8",
   "metadata": {},
   "outputs": [],
   "source": [
    "figure = plt.figure(figsize=(8,2), dpi=200)\n",
    "sns.countplot(data=df, x='parent_age',  palette='inferno',dodge=False,)\n",
    "figure.savefig(\"figures/countplot2.png\")"
   ]
  },
  {
   "cell_type": "code",
   "execution_count": null,
   "id": "328863af",
   "metadata": {},
   "outputs": [],
   "source": [
    "figure = plt.figure(figsize=(8,2), dpi=200)\n",
    "sns.kdeplot(data=df,palette='inferno', x='parent_age',   bw=0.3, shade=True,color='red')\n",
    "plt.xlim(21, 44);\n",
    "plt.xticks([22, 24,26,28, 30, 32,34,36,38,40,42]);\n",
    "\n",
    "figure.savefig(\"figures/kdeplot.png\")"
   ]
  }
 ],
 "metadata": {
  "kernelspec": {
   "display_name": "Python 3 (ipykernel)",
   "language": "python",
   "name": "python3"
  },
  "language_info": {
   "codemirror_mode": {
    "name": "ipython",
    "version": 3
   },
   "file_extension": ".py",
   "mimetype": "text/x-python",
   "name": "python",
   "nbconvert_exporter": "python",
   "pygments_lexer": "ipython3",
   "version": "3.9.7"
  }
 },
 "nbformat": 4,
 "nbformat_minor": 5
}
